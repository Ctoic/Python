{
 "cells": [
  {
   "cell_type": "code",
   "execution_count": 1,
   "metadata": {},
   "outputs": [
    {
     "name": "stdout",
     "output_type": "stream",
     "text": [
      "Enter a Number\n"
     ]
    }
   ],
   "source": [
    "def fun(num):\n",
    "    if num >1:\n",
    "        print(\"It's posive\")\n",
    "    elif num ==0:\n",
    "        print(\"Neutral num\")\n",
    "    else:\n",
    "        print(\"Negetive Number\")\n",
    "\n",
    "print(\"Enter a Number\")\n",
    "number = input()\n",
    "fun(number) \n"
   ]
  },
  {
   "cell_type": "code",
   "execution_count": 1,
   "metadata": {},
   "outputs": [
    {
     "name": "stdout",
     "output_type": "stream",
     "text": [
      "Hello world\n"
     ]
    }
   ],
   "source": [
    "print(\"Hello world\")\"\""
   ]
  },
  {
   "cell_type": "code",
   "execution_count": 4,
   "metadata": {},
   "outputs": [
    {
     "name": "stdout",
     "output_type": "stream",
     "text": [
      "Even\n",
      "Odd\n",
      "Even\n",
      "Odd\n",
      "Even\n",
      "Odd\n",
      "Even\n",
      "Odd\n",
      "Even\n",
      "Odd\n"
     ]
    },
    {
     "ename": "NameError",
     "evalue": "name 'lis' is not defined",
     "output_type": "error",
     "traceback": [
      "\u001b[0;31m---------------------------------------------------------------------------\u001b[0m",
      "\u001b[0;31mNameError\u001b[0m                                 Traceback (most recent call last)",
      "\u001b[1;32m/home/ctoic/Documents/Ubantu_dev/python_turtle/new.ipynb Cell 3'\u001b[0m in \u001b[0;36m<cell line: 9>\u001b[0;34m()\u001b[0m\n\u001b[1;32m      <a href='vscode-notebook-cell:/home/ctoic/Documents/Ubantu_dev/python_turtle/new.ipynb#ch0000002?line=4'>5</a>\u001b[0m         \u001b[39mprint\u001b[39m(\u001b[39m\"\u001b[39m\u001b[39mOdd\u001b[39m\u001b[39m\"\u001b[39m)\n\u001b[1;32m      <a href='vscode-notebook-cell:/home/ctoic/Documents/Ubantu_dev/python_turtle/new.ipynb#ch0000002?line=7'>8</a>\u001b[0m \u001b[39m# Now for list\u001b[39;00m\n\u001b[0;32m----> <a href='vscode-notebook-cell:/home/ctoic/Documents/Ubantu_dev/python_turtle/new.ipynb#ch0000002?line=8'>9</a>\u001b[0m help(lis)\n",
      "\u001b[0;31mNameError\u001b[0m: name 'lis' is not defined"
     ]
    }
   ],
   "source": [
    "\n",
    "\n",
    "\n",
    "for i in range(10):\n",
    "    if i%2 == 0:\n",
    "        print(\"Even\")\n",
    "    else:\n",
    "        print(\"Odd\")\n",
    "        \n",
    "\n",
    "# Now for list\n",
    "help(lis)\n",
    "        \n"
   ]
  },
  {
   "cell_type": "code",
   "execution_count": 8,
   "metadata": {},
   "outputs": [
    {
     "ename": "TypeError",
     "evalue": "unsupported operand type(s) for +: 'int' and 'str'",
     "output_type": "error",
     "traceback": [
      "\u001b[0;31m---------------------------------------------------------------------------\u001b[0m",
      "\u001b[0;31mTypeError\u001b[0m                                 Traceback (most recent call last)",
      "\u001b[1;32m/home/ctoic/Documents/Ubantu_dev/python_turtle/new.ipynb Cell 4'\u001b[0m in \u001b[0;36m<cell line: 2>\u001b[0;34m()\u001b[0m\n\u001b[1;32m      <a href='vscode-notebook-cell:/home/ctoic/Documents/Ubantu_dev/python_turtle/new.ipynb#ch0000003?line=1'>2</a>\u001b[0m \u001b[39mfor\u001b[39;00m i \u001b[39min\u001b[39;00m \u001b[39mrange\u001b[39m(\u001b[39m10\u001b[39m):\n\u001b[1;32m      <a href='vscode-notebook-cell:/home/ctoic/Documents/Ubantu_dev/python_turtle/new.ipynb#ch0000003?line=2'>3</a>\u001b[0m     \u001b[39mwhile\u001b[39;00m(j\u001b[39m<\u001b[39m\u001b[39m10\u001b[39m):\n\u001b[0;32m----> <a href='vscode-notebook-cell:/home/ctoic/Documents/Ubantu_dev/python_turtle/new.ipynb#ch0000003?line=3'>4</a>\u001b[0m         \u001b[39mprint\u001b[39m(j\u001b[39m+\u001b[39;49m\u001b[39m\"\u001b[39;49m\u001b[39m*\u001b[39;49m\u001b[39m\"\u001b[39;49m)\n\u001b[1;32m      <a href='vscode-notebook-cell:/home/ctoic/Documents/Ubantu_dev/python_turtle/new.ipynb#ch0000003?line=4'>5</a>\u001b[0m         j\u001b[39m=\u001b[39m j\u001b[39m+\u001b[39m\u001b[39m1\u001b[39m\n",
      "\u001b[0;31mTypeError\u001b[0m: unsupported operand type(s) for +: 'int' and 'str'"
     ]
    }
   ],
   "source": [
    "j = 0 \n",
    "for i in range(10):\n",
    "    while(j<10):\n",
    "        print(j+\"*\")\n",
    "        j= j+1"
   ]
  },
  {
   "cell_type": "code",
   "execution_count": 9,
   "metadata": {},
   "outputs": [
    {
     "ename": "TypeError",
     "evalue": "unsupported operand type(s) for +: 'int' and 'str'",
     "output_type": "error",
     "traceback": [
      "\u001b[0;31m---------------------------------------------------------------------------\u001b[0m",
      "\u001b[0;31mTypeError\u001b[0m                                 Traceback (most recent call last)",
      "\u001b[1;32m/home/ctoic/Documents/Ubantu_dev/python_turtle/new.ipynb Cell 5'\u001b[0m in \u001b[0;36m<cell line: 1>\u001b[0;34m()\u001b[0m\n\u001b[0;32m----> <a href='vscode-notebook-cell:/home/ctoic/Documents/Ubantu_dev/python_turtle/new.ipynb#ch0000004?line=0'>1</a>\u001b[0m \u001b[39m2\u001b[39;49m\u001b[39m+\u001b[39;49m\u001b[39m\"\u001b[39;49m\u001b[39m@\u001b[39;49m\u001b[39m\"\u001b[39;49m\n",
      "\u001b[0;31mTypeError\u001b[0m: unsupported operand type(s) for +: 'int' and 'str'"
     ]
    }
   ],
   "source": [
    "2+\"@\""
   ]
  },
  {
   "cell_type": "code",
   "execution_count": null,
   "metadata": {},
   "outputs": [],
   "source": []
  }
 ],
 "metadata": {
  "kernelspec": {
   "display_name": "Python 3.8.10 64-bit",
   "language": "python",
   "name": "python3"
  },
  "language_info": {
   "codemirror_mode": {
    "name": "ipython",
    "version": 3
   },
   "file_extension": ".py",
   "mimetype": "text/x-python",
   "name": "python",
   "nbconvert_exporter": "python",
   "pygments_lexer": "ipython3",
   "version": "3.8.10"
  },
  "orig_nbformat": 4,
  "vscode": {
   "interpreter": {
    "hash": "916dbcbb3f70747c44a77c7bcd40155683ae19c65e1c03b4aa3499c5328201f1"
   }
  }
 },
 "nbformat": 4,
 "nbformat_minor": 2
}
